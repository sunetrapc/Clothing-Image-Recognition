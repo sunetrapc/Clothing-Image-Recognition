{
 "cells": [
  {
   "cell_type": "code",
   "execution_count": 1,
   "id": "d63ca906-3455-48fe-b655-b147ad19d6aa",
   "metadata": {},
   "outputs": [],
   "source": [
    "import os\n",
    "os.environ['TF_CPP_MIN_LOG_LEVEL'] = '3' # suppress warnings"
   ]
  },
  {
   "cell_type": "code",
   "execution_count": 2,
   "id": "683ccf18-d793-4e42-9abf-a190c4dd64be",
   "metadata": {},
   "outputs": [],
   "source": [
    "import random\n",
    "import numpy as np\n",
    "import tensorflow as tf"
   ]
  },
  {
   "cell_type": "code",
   "execution_count": 3,
   "id": "632e366b-5b27-4823-97d7-a0f73d5b5ea6",
   "metadata": {},
   "outputs": [],
   "source": [
    "random.seed(1693)\n",
    "np.random.seed(1693)\n",
    "tf.random.set_seed(1693)"
   ]
  },
  {
   "cell_type": "code",
   "execution_count": 4,
   "id": "c3d125ea-61bd-4cfc-ac88-132358f3ddbc",
   "metadata": {},
   "outputs": [
    {
     "name": "stdout",
     "output_type": "stream",
     "text": [
      "Downloading data from https://storage.googleapis.com/tensorflow/tf-keras-datasets/train-labels-idx1-ubyte.gz\n",
      "\u001b[1m29515/29515\u001b[0m \u001b[32m━━━━━━━━━━━━━━━━━━━━\u001b[0m\u001b[37m\u001b[0m \u001b[1m0s\u001b[0m 1us/step\n",
      "Downloading data from https://storage.googleapis.com/tensorflow/tf-keras-datasets/train-images-idx3-ubyte.gz\n",
      "\u001b[1m26421880/26421880\u001b[0m \u001b[32m━━━━━━━━━━━━━━━━━━━━\u001b[0m\u001b[37m\u001b[0m \u001b[1m2s\u001b[0m 0us/step\n",
      "Downloading data from https://storage.googleapis.com/tensorflow/tf-keras-datasets/t10k-labels-idx1-ubyte.gz\n",
      "\u001b[1m5148/5148\u001b[0m \u001b[32m━━━━━━━━━━━━━━━━━━━━\u001b[0m\u001b[37m\u001b[0m \u001b[1m0s\u001b[0m 0us/step\n",
      "Downloading data from https://storage.googleapis.com/tensorflow/tf-keras-datasets/t10k-images-idx3-ubyte.gz\n",
      "\u001b[1m4422102/4422102\u001b[0m \u001b[32m━━━━━━━━━━━━━━━━━━━━\u001b[0m\u001b[37m\u001b[0m \u001b[1m0s\u001b[0m 0us/step\n"
     ]
    }
   ],
   "source": [
    "fashion_mnist = tf.keras.datasets.fashion_mnist\n",
    "(train_images, train_labels), (test_images, test_labels) = fashion_mnist.load_data()"
   ]
  },
  {
   "cell_type": "code",
   "execution_count": 5,
   "id": "fa246af9-8337-4b09-8080-f65768ff66fb",
   "metadata": {},
   "outputs": [
    {
     "name": "stdout",
     "output_type": "stream",
     "text": [
      "0. the 16th image in the X train set: [[0.         0.         0.         0.         0.         0.\n",
      "  0.         0.         0.         0.         0.         0.\n",
      "  0.         0.         0.         0.         0.         0.\n",
      "  0.         0.         0.         0.         0.         0.\n",
      "  0.         0.         0.         0.        ]\n",
      " [0.         0.         0.         0.         0.         0.\n",
      "  0.         0.         0.         0.         0.         0.\n",
      "  0.         0.         0.         0.         0.         0.\n",
      "  0.         0.         0.         0.         0.         0.\n",
      "  0.         0.         0.         0.        ]\n",
      " [0.         0.         0.         0.         0.         0.\n",
      "  0.         0.         0.         0.         0.         0.\n",
      "  0.         0.         0.         0.         0.         0.\n",
      "  0.         0.         0.         0.         0.         0.\n",
      "  0.         0.         0.         0.        ]\n",
      " [0.         0.         0.         0.         0.         0.\n",
      "  0.         0.         0.         0.         0.         0.\n",
      "  0.         0.         0.         0.         0.         0.\n",
      "  0.         0.         0.         0.         0.         0.\n",
      "  0.         0.         0.         0.        ]\n",
      " [0.         0.         0.         0.         0.         0.\n",
      "  0.         0.         0.         0.         0.         0.\n",
      "  0.         0.         0.         0.         0.         0.\n",
      "  0.         0.         0.         0.         0.         0.\n",
      "  0.         0.         0.         0.        ]\n",
      " [0.         0.         0.         0.         0.         0.\n",
      "  0.         0.         0.         0.         0.         0.\n",
      "  0.         0.         0.33333333 0.7372549  0.57254902 0.30980392\n",
      "  0.         0.         0.         0.         0.         0.\n",
      "  0.         0.         0.         0.        ]\n",
      " [0.         0.         0.         0.         0.         0.\n",
      "  0.         0.         0.         0.         0.         0.\n",
      "  0.         0.         0.54901961 0.79215686 0.78039216 1.\n",
      "  0.56470588 0.         0.         0.         0.         0.04313725\n",
      "  0.52941176 0.61568627 0.01960784 0.        ]\n",
      " [0.         0.         0.         0.         0.         0.\n",
      "  0.         0.         0.         0.         0.         0.01176471\n",
      "  0.         0.         0.78431373 0.73333333 0.78431373 0.74901961\n",
      "  1.         0.2        0.         0.         0.0627451  0.81568627\n",
      "  0.89019608 0.9254902  0.24705882 0.        ]\n",
      " [0.         0.         0.         0.         0.         0.\n",
      "  0.         0.         0.         0.         0.         0.00784314\n",
      "  0.         0.07058824 0.91372549 0.75686275 0.80784314 0.72941176\n",
      "  0.85882353 1.         0.67058824 0.54901961 1.         0.86666667\n",
      "  0.79607843 0.85098039 0.16862745 0.        ]\n",
      " [0.         0.         0.         0.         0.         0.\n",
      "  0.         0.         0.         0.         0.         0.\n",
      "  0.         0.41960784 0.85098039 0.76470588 0.79607843 0.8\n",
      "  0.81960784 0.84705882 0.95686275 1.         0.83529412 0.81176471\n",
      "  0.85490196 0.89411765 0.28235294 0.        ]\n",
      " [0.         0.         0.         0.         0.         0.\n",
      "  0.         0.         0.         0.         0.         0.\n",
      "  0.         0.90588235 0.84705882 0.81960784 0.8        0.80392157\n",
      "  0.85098039 0.85490196 0.83921569 0.83529412 0.78823529 0.82352941\n",
      "  0.84313725 0.91372549 0.50196078 0.        ]\n",
      " [0.         0.         0.         0.         0.         0.\n",
      "  0.         0.         0.         0.         0.00392157 0.\n",
      "  0.12941176 1.         0.80784314 0.83921569 0.8        0.83529412\n",
      "  0.85490196 0.83529412 0.85098039 0.87058824 0.76862745 0.78823529\n",
      "  0.80392157 0.90588235 0.7254902  0.        ]\n",
      " [0.         0.         0.         0.         0.         0.\n",
      "  0.         0.         0.         0.03529412 0.00784314 0.\n",
      "  0.62352941 0.91764706 0.75686275 0.81960784 0.80784314 0.84313725\n",
      "  0.85490196 0.85098039 0.86666667 0.82352941 0.78823529 0.80392157\n",
      "  0.83921569 0.85882353 0.97647059 0.        ]\n",
      " [0.         0.         0.         0.         0.         0.\n",
      "  0.         0.         0.00392157 0.         0.         0.30196078\n",
      "  1.         0.85882353 0.81176471 0.8        0.80392157 0.83529412\n",
      "  0.83529412 0.84313725 0.83529412 0.79607843 0.82745098 0.85098039\n",
      "  0.85098039 0.79215686 1.         0.27843137]\n",
      " [0.         0.         0.00392157 0.00784314 0.01176471 0.01176471\n",
      "  0.00392157 0.         0.         0.         0.4745098  0.96078431\n",
      "  0.83921569 0.85882353 0.82352941 0.78431373 0.80392157 0.84313725\n",
      "  0.84313725 0.85882353 0.83921569 0.8        0.81568627 0.83529412\n",
      "  0.83921569 0.78823529 0.96470588 0.4627451 ]\n",
      " [0.         0.         0.         0.         0.         0.\n",
      "  0.         0.         0.30588235 0.84705882 1.         0.81568627\n",
      "  0.80392157 0.83921569 0.77254902 0.79215686 0.83921569 0.82745098\n",
      "  0.82352941 0.83529412 0.82745098 0.81568627 0.83921569 0.8\n",
      "  0.81568627 0.81176471 0.92941176 0.53333333]\n",
      " [0.         0.         0.         0.         0.0745098  0.34117647\n",
      "  0.52941176 0.82745098 1.         0.85098039 0.79215686 0.80784314\n",
      "  0.83921569 0.81960784 0.77647059 0.79215686 0.83921569 0.83921569\n",
      "  0.82745098 0.83529412 0.78431373 0.81176471 0.83137255 0.78823529\n",
      "  0.77647059 0.79607843 0.95294118 0.50980392]\n",
      " [0.         0.25098039 0.74509804 0.85882353 0.94509804 0.83921569\n",
      "  0.89019608 0.84705882 0.76078431 0.75686275 0.78039216 0.78823529\n",
      "  0.78823529 0.83529412 0.8        0.77647059 0.78823529 0.80392157\n",
      "  0.81568627 0.79215686 0.79215686 0.80392157 0.76862745 0.77647059\n",
      "  0.79215686 0.78823529 1.         0.28627451]\n",
      " [0.09019608 0.83921569 0.81960784 0.77647059 0.77647059 0.76470588\n",
      "  0.78431373 0.76078431 0.83137255 0.78823529 0.78823529 0.79607843\n",
      "  0.8        0.82745098 0.8        0.78039216 0.78039216 0.76470588\n",
      "  0.76078431 0.70980392 0.73333333 0.83137255 0.81568627 0.78823529\n",
      "  0.83137255 0.85882353 0.96078431 0.04313725]\n",
      " [0.50588235 0.8627451  0.78431373 0.81176471 0.80784314 0.8\n",
      "  0.74901961 0.79215686 0.81960784 0.83137255 0.82745098 0.81176471\n",
      "  0.8        0.79215686 0.77647059 0.80784314 0.81960784 0.77647059\n",
      "  0.8        0.87058824 0.96470588 0.8745098  0.77254902 0.70196078\n",
      "  0.64705882 0.63921569 0.70196078 0.        ]\n",
      " [0.49019608 0.90980392 0.82745098 0.80392157 0.83529412 0.83137255\n",
      "  0.84313725 0.84705882 0.83921569 0.81176471 0.78431373 0.77254902\n",
      "  0.78431373 0.77254902 0.80392157 0.8        0.83529412 0.88627451\n",
      "  0.94117647 0.69019608 0.35686275 0.63921569 0.64313725 0.62352941\n",
      "  0.63529412 0.67843137 0.77647059 0.        ]\n",
      " [0.         0.57254902 0.83137255 0.89803922 0.84313725 0.83529412\n",
      "  0.79607843 0.77647059 0.80784314 0.79607843 0.79215686 0.79215686\n",
      "  0.77254902 0.76862745 0.81568627 0.89019608 0.88235294 0.43921569\n",
      "  0.         0.         0.         0.7254902  0.62745098 0.63137255\n",
      "  0.60784314 0.65490196 0.8        0.        ]\n",
      " [0.         0.         0.01960784 0.45882353 0.82745098 0.92941176\n",
      "  1.         0.95686275 0.90588235 0.88235294 0.84705882 0.8627451\n",
      "  0.89411765 1.         0.96078431 0.47843137 0.         0.\n",
      "  0.         0.         0.         0.90588235 0.83921569 0.83137255\n",
      "  0.86666667 0.78823529 0.89411765 0.02352941]\n",
      " [0.         0.00784314 0.         0.         0.         0.\n",
      "  0.25882353 0.45490196 0.62745098 0.74901961 0.81176471 0.81176471\n",
      "  0.78431373 0.47058824 0.         0.         0.         0.\n",
      "  0.00784314 0.         0.         0.37254902 0.33333333 0.30980392\n",
      "  0.2627451  0.2        0.         0.        ]\n",
      " [0.         0.         0.         0.         0.         0.\n",
      "  0.         0.         0.         0.         0.         0.\n",
      "  0.         0.         0.         0.         0.         0.\n",
      "  0.         0.         0.         0.         0.         0.\n",
      "  0.         0.         0.         0.        ]\n",
      " [0.         0.         0.         0.         0.         0.\n",
      "  0.         0.         0.         0.         0.         0.\n",
      "  0.         0.         0.         0.         0.         0.\n",
      "  0.         0.         0.         0.         0.         0.\n",
      "  0.         0.         0.         0.        ]\n",
      " [0.         0.         0.         0.         0.         0.\n",
      "  0.         0.         0.         0.         0.         0.\n",
      "  0.         0.         0.         0.         0.         0.\n",
      "  0.         0.         0.         0.         0.         0.\n",
      "  0.         0.         0.         0.        ]\n",
      " [0.         0.         0.         0.         0.         0.\n",
      "  0.         0.         0.         0.         0.         0.\n",
      "  0.         0.         0.         0.         0.         0.\n",
      "  0.         0.         0.         0.         0.         0.\n",
      "  0.         0.         0.         0.        ]]\n",
      "1. the Y label of the 16th item in the original train set: 9\n",
      "2. the actual description of the 16th item's label: Ankle boot\n"
     ]
    }
   ],
   "source": [
    "train_images, test_images = train_images / 255.0, test_images / 255.0\n",
    "print(\"0. the 16th image in the X train set:\", train_images[15])\n",
    "print(\"1. the Y label of the 16th item in the original train set:\", train_labels[15])\n",
    "class_names = ['T-shirt/top', 'Trouser', 'Pullover', 'Dress', 'Coat',\n",
    "               'Sandal', 'Shirt', 'Sneaker', 'Bag', 'Ankle boot']\n",
    "print(\"2. the actual description of the 16th item's label:\", class_names[train_labels[15]])"
   ]
  },
  {
   "cell_type": "code",
   "execution_count": 12,
   "id": "802d520e-4b98-41d7-8ea6-1ec7b79d10c9",
   "metadata": {},
   "outputs": [
    {
     "data": {
      "image/png": "[encoded data removed]",
      "text/plain": [
       "<Figure size 640x480 with 2 Axes>"
      ]
     },
     "metadata": {},
     "output_type": "display_data"
    }
   ],
   "source": [
    "import matplotlib.pyplot as plt\n",
    "# Visualization: Display the 16th image\n",
    "plt.imshow(train_images[15])\n",
    "plt.colorbar()\n",
    "plt.title(f\"Label: {class_names[train_labels[15]]}\")\n",
    "plt.show()"
   ]
  },
  {
   "cell_type": "code",
   "execution_count": 13,
   "id": "949d6ccc-3f0b-4dbf-a804-62fb9dc1c4b1",
   "metadata": {},
   "outputs": [
    {
     "name": "stdout",
     "output_type": "stream",
     "text": [
      "3. the scaled X values of the 16th item in the train set:  [[0.00000000e+00 0.00000000e+00 0.00000000e+00 0.00000000e+00\n",
      "  0.00000000e+00 0.00000000e+00 0.00000000e+00 0.00000000e+00\n",
      "  0.00000000e+00 0.00000000e+00 0.00000000e+00 0.00000000e+00\n",
      "  0.00000000e+00 0.00000000e+00 0.00000000e+00 0.00000000e+00\n",
      "  0.00000000e+00 0.00000000e+00 0.00000000e+00 0.00000000e+00\n",
      "  0.00000000e+00 0.00000000e+00 0.00000000e+00 0.00000000e+00\n",
      "  0.00000000e+00 0.00000000e+00 0.00000000e+00 0.00000000e+00]\n",
      " [0.00000000e+00 0.00000000e+00 0.00000000e+00 0.00000000e+00\n",
      "  0.00000000e+00 0.00000000e+00 0.00000000e+00 0.00000000e+00\n",
      "  0.00000000e+00 0.00000000e+00 0.00000000e+00 0.00000000e+00\n",
      "  0.00000000e+00 0.00000000e+00 0.00000000e+00 0.00000000e+00\n",
      "  0.00000000e+00 0.00000000e+00 0.00000000e+00 0.00000000e+00\n",
      "  0.00000000e+00 0.00000000e+00 0.00000000e+00 0.00000000e+00\n",
      "  0.00000000e+00 0.00000000e+00 0.00000000e+00 0.00000000e+00]\n",
      " [0.00000000e+00 0.00000000e+00 0.00000000e+00 0.00000000e+00\n",
      "  0.00000000e+00 0.00000000e+00 0.00000000e+00 0.00000000e+00\n",
      "  0.00000000e+00 0.00000000e+00 0.00000000e+00 0.00000000e+00\n",
      "  0.00000000e+00 0.00000000e+00 0.00000000e+00 0.00000000e+00\n",
      "  0.00000000e+00 0.00000000e+00 0.00000000e+00 0.00000000e+00\n",
      "  0.00000000e+00 0.00000000e+00 0.00000000e+00 0.00000000e+00\n",
      "  0.00000000e+00 0.00000000e+00 0.00000000e+00 0.00000000e+00]\n",
      " [0.00000000e+00 0.00000000e+00 0.00000000e+00 0.00000000e+00\n",
      "  0.00000000e+00 0.00000000e+00 0.00000000e+00 0.00000000e+00\n",
      "  0.00000000e+00 0.00000000e+00 0.00000000e+00 0.00000000e+00\n",
      "  0.00000000e+00 0.00000000e+00 0.00000000e+00 0.00000000e+00\n",
      "  0.00000000e+00 0.00000000e+00 0.00000000e+00 0.00000000e+00\n",
      "  0.00000000e+00 0.00000000e+00 0.00000000e+00 0.00000000e+00\n",
      "  0.00000000e+00 0.00000000e+00 0.00000000e+00 0.00000000e+00]\n",
      " [0.00000000e+00 0.00000000e+00 0.00000000e+00 0.00000000e+00\n",
      "  0.00000000e+00 0.00000000e+00 0.00000000e+00 0.00000000e+00\n",
      "  0.00000000e+00 0.00000000e+00 0.00000000e+00 0.00000000e+00\n",
      "  0.00000000e+00 0.00000000e+00 0.00000000e+00 0.00000000e+00\n",
      "  0.00000000e+00 0.00000000e+00 0.00000000e+00 0.00000000e+00\n",
      "  0.00000000e+00 0.00000000e+00 0.00000000e+00 0.00000000e+00\n",
      "  0.00000000e+00 0.00000000e+00 0.00000000e+00 0.00000000e+00]\n",
      " [0.00000000e+00 0.00000000e+00 0.00000000e+00 0.00000000e+00\n",
      "  0.00000000e+00 0.00000000e+00 0.00000000e+00 0.00000000e+00\n",
      "  0.00000000e+00 0.00000000e+00 0.00000000e+00 0.00000000e+00\n",
      "  0.00000000e+00 0.00000000e+00 1.30718954e-03 2.89119569e-03\n",
      "  2.24529027e-03 1.21491734e-03 0.00000000e+00 0.00000000e+00\n",
      "  0.00000000e+00 0.00000000e+00 0.00000000e+00 0.00000000e+00\n",
      "  0.00000000e+00 0.00000000e+00 0.00000000e+00 0.00000000e+00]\n",
      " [0.00000000e+00 0.00000000e+00 0.00000000e+00 0.00000000e+00\n",
      "  0.00000000e+00 0.00000000e+00 0.00000000e+00 0.00000000e+00\n",
      "  0.00000000e+00 0.00000000e+00 0.00000000e+00 0.00000000e+00\n",
      "  0.00000000e+00 0.00000000e+00 2.15301807e-03 3.10649750e-03\n",
      "  3.06036140e-03 3.92156863e-03 2.21453287e-03 0.00000000e+00\n",
      "  0.00000000e+00 0.00000000e+00 0.00000000e+00 1.69165705e-04\n",
      "  2.07612457e-03 2.41445598e-03 7.68935025e-05 0.00000000e+00]\n",
      " [0.00000000e+00 0.00000000e+00 0.00000000e+00 0.00000000e+00\n",
      "  0.00000000e+00 0.00000000e+00 0.00000000e+00 0.00000000e+00\n",
      "  0.00000000e+00 0.00000000e+00 0.00000000e+00 4.61361015e-05\n",
      "  0.00000000e+00 0.00000000e+00 3.07574010e-03 2.87581699e-03\n",
      "  3.07574010e-03 2.93733180e-03 3.92156863e-03 7.84313725e-04\n",
      "  0.00000000e+00 0.00000000e+00 2.46059208e-04 3.19876970e-03\n",
      "  3.49096501e-03 3.62937332e-03 9.68858131e-04 0.00000000e+00]\n",
      " [0.00000000e+00 0.00000000e+00 0.00000000e+00 0.00000000e+00\n",
      "  0.00000000e+00 0.00000000e+00 0.00000000e+00 0.00000000e+00\n",
      "  0.00000000e+00 0.00000000e+00 0.00000000e+00 3.07574010e-05\n",
      "  0.00000000e+00 2.76816609e-04 3.58323722e-03 2.96808920e-03\n",
      "  3.16801230e-03 2.86043829e-03 3.36793541e-03 3.92156863e-03\n",
      "  2.62975779e-03 2.15301807e-03 3.92156863e-03 3.39869281e-03\n",
      "  3.12187620e-03 3.33717801e-03 6.61284121e-04 0.00000000e+00]\n",
      " [0.00000000e+00 0.00000000e+00 0.00000000e+00 0.00000000e+00\n",
      "  0.00000000e+00 0.00000000e+00 0.00000000e+00 0.00000000e+00\n",
      "  0.00000000e+00 0.00000000e+00 0.00000000e+00 0.00000000e+00\n",
      "  0.00000000e+00 1.64552095e-03 3.33717801e-03 2.99884660e-03\n",
      "  3.12187620e-03 3.13725490e-03 3.21414840e-03 3.32179931e-03\n",
      "  3.75240292e-03 3.92156863e-03 3.27566321e-03 3.18339100e-03\n",
      "  3.35255671e-03 3.50634371e-03 1.10726644e-03 0.00000000e+00]\n",
      " [0.00000000e+00 0.00000000e+00 0.00000000e+00 0.00000000e+00\n",
      "  0.00000000e+00 0.00000000e+00 0.00000000e+00 0.00000000e+00\n",
      "  0.00000000e+00 0.00000000e+00 0.00000000e+00 0.00000000e+00\n",
      "  0.00000000e+00 3.55247982e-03 3.32179931e-03 3.21414840e-03\n",
      "  3.13725490e-03 3.15263360e-03 3.33717801e-03 3.35255671e-03\n",
      "  3.29104191e-03 3.27566321e-03 3.09111880e-03 3.22952710e-03\n",
      "  3.30642061e-03 3.58323722e-03 1.96847366e-03 0.00000000e+00]\n",
      " [0.00000000e+00 0.00000000e+00 0.00000000e+00 0.00000000e+00\n",
      "  0.00000000e+00 0.00000000e+00 0.00000000e+00 0.00000000e+00\n",
      "  0.00000000e+00 0.00000000e+00 1.53787005e-05 0.00000000e+00\n",
      "  5.07497116e-04 3.92156863e-03 3.16801230e-03 3.29104191e-03\n",
      "  3.13725490e-03 3.27566321e-03 3.35255671e-03 3.27566321e-03\n",
      "  3.33717801e-03 3.41407151e-03 3.01422530e-03 3.09111880e-03\n",
      "  3.15263360e-03 3.55247982e-03 2.84505959e-03 0.00000000e+00]\n",
      " [0.00000000e+00 0.00000000e+00 0.00000000e+00 0.00000000e+00\n",
      "  0.00000000e+00 0.00000000e+00 0.00000000e+00 0.00000000e+00\n",
      "  0.00000000e+00 1.38408304e-04 3.07574010e-05 0.00000000e+00\n",
      "  2.44521338e-03 3.59861592e-03 2.96808920e-03 3.21414840e-03\n",
      "  3.16801230e-03 3.30642061e-03 3.35255671e-03 3.33717801e-03\n",
      "  3.39869281e-03 3.22952710e-03 3.09111880e-03 3.15263360e-03\n",
      "  3.29104191e-03 3.36793541e-03 3.82929642e-03 0.00000000e+00]\n",
      " [0.00000000e+00 0.00000000e+00 0.00000000e+00 0.00000000e+00\n",
      "  0.00000000e+00 0.00000000e+00 0.00000000e+00 0.00000000e+00\n",
      "  1.53787005e-05 0.00000000e+00 0.00000000e+00 1.18415994e-03\n",
      "  3.92156863e-03 3.36793541e-03 3.18339100e-03 3.13725490e-03\n",
      "  3.15263360e-03 3.27566321e-03 3.27566321e-03 3.30642061e-03\n",
      "  3.27566321e-03 3.12187620e-03 3.24490581e-03 3.33717801e-03\n",
      "  3.33717801e-03 3.10649750e-03 3.92156863e-03 1.09188774e-03]\n",
      " [0.00000000e+00 0.00000000e+00 1.53787005e-05 3.07574010e-05\n",
      "  4.61361015e-05 4.61361015e-05 1.53787005e-05 0.00000000e+00\n",
      "  0.00000000e+00 0.00000000e+00 1.86082276e-03 3.76778162e-03\n",
      "  3.29104191e-03 3.36793541e-03 3.22952710e-03 3.07574010e-03\n",
      "  3.15263360e-03 3.30642061e-03 3.30642061e-03 3.36793541e-03\n",
      "  3.29104191e-03 3.13725490e-03 3.19876970e-03 3.27566321e-03\n",
      "  3.29104191e-03 3.09111880e-03 3.78316032e-03 1.81468666e-03]\n",
      " [0.00000000e+00 0.00000000e+00 0.00000000e+00 0.00000000e+00\n",
      "  0.00000000e+00 0.00000000e+00 0.00000000e+00 0.00000000e+00\n",
      "  1.19953864e-03 3.32179931e-03 3.92156863e-03 3.19876970e-03\n",
      "  3.15263360e-03 3.29104191e-03 3.02960400e-03 3.10649750e-03\n",
      "  3.29104191e-03 3.24490581e-03 3.22952710e-03 3.27566321e-03\n",
      "  3.24490581e-03 3.19876970e-03 3.29104191e-03 3.13725490e-03\n",
      "  3.19876970e-03 3.18339100e-03 3.64475202e-03 2.09150327e-03]\n",
      " [0.00000000e+00 0.00000000e+00 0.00000000e+00 0.00000000e+00\n",
      "  2.92195309e-04 1.33794694e-03 2.07612457e-03 3.24490581e-03\n",
      "  3.92156863e-03 3.33717801e-03 3.10649750e-03 3.16801230e-03\n",
      "  3.29104191e-03 3.21414840e-03 3.04498270e-03 3.10649750e-03\n",
      "  3.29104191e-03 3.29104191e-03 3.24490581e-03 3.27566321e-03\n",
      "  3.07574010e-03 3.18339100e-03 3.26028451e-03 3.09111880e-03\n",
      "  3.04498270e-03 3.12187620e-03 3.73702422e-03 1.99923106e-03]\n",
      " [0.00000000e+00 9.84236832e-04 2.92195309e-03 3.36793541e-03\n",
      "  3.70626682e-03 3.29104191e-03 3.49096501e-03 3.32179931e-03\n",
      "  2.98346790e-03 2.96808920e-03 3.06036140e-03 3.09111880e-03\n",
      "  3.09111880e-03 3.27566321e-03 3.13725490e-03 3.04498270e-03\n",
      "  3.09111880e-03 3.15263360e-03 3.19876970e-03 3.10649750e-03\n",
      "  3.10649750e-03 3.15263360e-03 3.01422530e-03 3.04498270e-03\n",
      "  3.10649750e-03 3.09111880e-03 3.92156863e-03 1.12264514e-03]\n",
      " [3.53710111e-04 3.29104191e-03 3.21414840e-03 3.04498270e-03\n",
      "  3.04498270e-03 2.99884660e-03 3.07574010e-03 2.98346790e-03\n",
      "  3.26028451e-03 3.09111880e-03 3.09111880e-03 3.12187620e-03\n",
      "  3.13725490e-03 3.24490581e-03 3.13725490e-03 3.06036140e-03\n",
      "  3.06036140e-03 2.99884660e-03 2.98346790e-03 2.78354479e-03\n",
      "  2.87581699e-03 3.26028451e-03 3.19876970e-03 3.09111880e-03\n",
      "  3.26028451e-03 3.36793541e-03 3.76778162e-03 1.69165705e-04]\n",
      " [1.98385236e-03 3.38331411e-03 3.07574010e-03 3.18339100e-03\n",
      "  3.16801230e-03 3.13725490e-03 2.93733180e-03 3.10649750e-03\n",
      "  3.21414840e-03 3.26028451e-03 3.24490581e-03 3.18339100e-03\n",
      "  3.13725490e-03 3.10649750e-03 3.04498270e-03 3.16801230e-03\n",
      "  3.21414840e-03 3.04498270e-03 3.13725490e-03 3.41407151e-03\n",
      "  3.78316032e-03 3.42945021e-03 3.02960400e-03 2.75278739e-03\n",
      "  2.53748558e-03 2.50672818e-03 2.75278739e-03 0.00000000e+00]\n",
      " [1.92233756e-03 3.56785852e-03 3.24490581e-03 3.15263360e-03\n",
      "  3.27566321e-03 3.26028451e-03 3.30642061e-03 3.32179931e-03\n",
      "  3.29104191e-03 3.18339100e-03 3.07574010e-03 3.02960400e-03\n",
      "  3.07574010e-03 3.02960400e-03 3.15263360e-03 3.13725490e-03\n",
      "  3.27566321e-03 3.47558631e-03 3.69088812e-03 2.70665129e-03\n",
      "  1.39946175e-03 2.50672818e-03 2.52210688e-03 2.44521338e-03\n",
      "  2.49134948e-03 2.66051519e-03 3.04498270e-03 0.00000000e+00]\n",
      " [0.00000000e+00 2.24529027e-03 3.26028451e-03 3.52172241e-03\n",
      "  3.30642061e-03 3.27566321e-03 3.12187620e-03 3.04498270e-03\n",
      "  3.16801230e-03 3.12187620e-03 3.10649750e-03 3.10649750e-03\n",
      "  3.02960400e-03 3.01422530e-03 3.19876970e-03 3.49096501e-03\n",
      "  3.46020761e-03 1.72241446e-03 0.00000000e+00 0.00000000e+00\n",
      "  0.00000000e+00 2.84505959e-03 2.46059208e-03 2.47597078e-03\n",
      "  2.38369858e-03 2.56824298e-03 3.13725490e-03 0.00000000e+00]\n",
      " [0.00000000e+00 0.00000000e+00 7.68935025e-05 1.79930796e-03\n",
      "  3.24490581e-03 3.64475202e-03 3.92156863e-03 3.75240292e-03\n",
      "  3.55247982e-03 3.46020761e-03 3.32179931e-03 3.38331411e-03\n",
      "  3.50634371e-03 3.92156863e-03 3.76778162e-03 1.87620146e-03\n",
      "  0.00000000e+00 0.00000000e+00 0.00000000e+00 0.00000000e+00\n",
      "  0.00000000e+00 3.55247982e-03 3.29104191e-03 3.26028451e-03\n",
      "  3.39869281e-03 3.09111880e-03 3.50634371e-03 9.22722030e-05]\n",
      " [0.00000000e+00 3.07574010e-05 0.00000000e+00 0.00000000e+00\n",
      "  0.00000000e+00 0.00000000e+00 1.01499423e-03 1.78392926e-03\n",
      "  2.46059208e-03 2.93733180e-03 3.18339100e-03 3.18339100e-03\n",
      "  3.07574010e-03 1.84544406e-03 0.00000000e+00 0.00000000e+00\n",
      "  0.00000000e+00 0.00000000e+00 3.07574010e-05 0.00000000e+00\n",
      "  0.00000000e+00 1.46097655e-03 1.30718954e-03 1.21491734e-03\n",
      "  1.03037293e-03 7.84313725e-04 0.00000000e+00 0.00000000e+00]\n",
      " [0.00000000e+00 0.00000000e+00 0.00000000e+00 0.00000000e+00\n",
      "  0.00000000e+00 0.00000000e+00 0.00000000e+00 0.00000000e+00\n",
      "  0.00000000e+00 0.00000000e+00 0.00000000e+00 0.00000000e+00\n",
      "  0.00000000e+00 0.00000000e+00 0.00000000e+00 0.00000000e+00\n",
      "  0.00000000e+00 0.00000000e+00 0.00000000e+00 0.00000000e+00\n",
      "  0.00000000e+00 0.00000000e+00 0.00000000e+00 0.00000000e+00\n",
      "  0.00000000e+00 0.00000000e+00 0.00000000e+00 0.00000000e+00]\n",
      " [0.00000000e+00 0.00000000e+00 0.00000000e+00 0.00000000e+00\n",
      "  0.00000000e+00 0.00000000e+00 0.00000000e+00 0.00000000e+00\n",
      "  0.00000000e+00 0.00000000e+00 0.00000000e+00 0.00000000e+00\n",
      "  0.00000000e+00 0.00000000e+00 0.00000000e+00 0.00000000e+00\n",
      "  0.00000000e+00 0.00000000e+00 0.00000000e+00 0.00000000e+00\n",
      "  0.00000000e+00 0.00000000e+00 0.00000000e+00 0.00000000e+00\n",
      "  0.00000000e+00 0.00000000e+00 0.00000000e+00 0.00000000e+00]\n",
      " [0.00000000e+00 0.00000000e+00 0.00000000e+00 0.00000000e+00\n",
      "  0.00000000e+00 0.00000000e+00 0.00000000e+00 0.00000000e+00\n",
      "  0.00000000e+00 0.00000000e+00 0.00000000e+00 0.00000000e+00\n",
      "  0.00000000e+00 0.00000000e+00 0.00000000e+00 0.00000000e+00\n",
      "  0.00000000e+00 0.00000000e+00 0.00000000e+00 0.00000000e+00\n",
      "  0.00000000e+00 0.00000000e+00 0.00000000e+00 0.00000000e+00\n",
      "  0.00000000e+00 0.00000000e+00 0.00000000e+00 0.00000000e+00]\n",
      " [0.00000000e+00 0.00000000e+00 0.00000000e+00 0.00000000e+00\n",
      "  0.00000000e+00 0.00000000e+00 0.00000000e+00 0.00000000e+00\n",
      "  0.00000000e+00 0.00000000e+00 0.00000000e+00 0.00000000e+00\n",
      "  0.00000000e+00 0.00000000e+00 0.00000000e+00 0.00000000e+00\n",
      "  0.00000000e+00 0.00000000e+00 0.00000000e+00 0.00000000e+00\n",
      "  0.00000000e+00 0.00000000e+00 0.00000000e+00 0.00000000e+00\n",
      "  0.00000000e+00 0.00000000e+00 0.00000000e+00 0.00000000e+00]]\n",
      "4. the one-hot coded Y label of the 16th item in the train set:  [0. 0. 0. 0. 0. 0. 0. 0. 0. 1.]\n"
     ]
    }
   ],
   "source": [
    "train_images = train_images / 255.0\n",
    "test_images = test_images / 255.0\n",
    "print(\"3. the scaled X values of the 16th item in the train set: \", train_images[15].reshape(28, 28))\n",
    "from tensorflow.keras.utils import to_categorical\n",
    "train_labels_one_hot = to_categorical(train_labels, 10)\n",
    "test_labels_one_hot = to_categorical(test_labels, 10)\n",
    "print(\"4. the one-hot coded Y label of the 16th item in the train set: \", train_labels_one_hot[15])"
   ]
  },
  {
   "cell_type": "code",
   "execution_count": 14,
   "id": "906a0706-28fa-4088-8361-acb0d50907bb",
   "metadata": {},
   "outputs": [
    {
     "name": "stdout",
     "output_type": "stream",
     "text": [
      "5. Summary of the model:\n"
     ]
    },
    {
     "name": "stderr",
     "output_type": "stream",
     "text": [
      "C:\\Users\\sunet\\anaconda3\\Lib\\site-packages\\keras\\src\\layers\\reshaping\\flatten.py:37: UserWarning: Do not pass an `input_shape`/`input_dim` argument to a layer. When using Sequential models, prefer using an `Input(shape)` object as the first layer in the model instead.\n",
      "  super().__init__(**kwargs)\n"
     ]
    },
    {
     "data": {
      "text/html": [
       "<pre style=\"white-space:pre;overflow-x:auto;line-height:normal;font-family:Menlo,'DejaVu Sans Mono',consolas,'Courier New',monospace\"><span style=\"font-weight: bold\">Model: \"sequential\"</span>\n",
       "</pre>\n"
      ],
      "text/plain": [
       "\u001b[1mModel: \"sequential\"\u001b[0m\n"
      ]
     },
     "metadata": {},
     "output_type": "display_data"
    },
    {
     "data": {
      "text/html": [
       "<pre style=\"white-space:pre;overflow-x:auto;line-height:normal;font-family:Menlo,'DejaVu Sans Mono',consolas,'Courier New',monospace\">┏━━━━━━━━━━━━━━━━━━━━━━━━━━━━━━━━━━━━━━┳━━━━━━━━━━━━━━━━━━━━━━━━━━━━━┳━━━━━━━━━━━━━━━━━┓\n",
       "┃<span style=\"font-weight: bold\"> Layer (type)                         </span>┃<span style=\"font-weight: bold\"> Output Shape                </span>┃<span style=\"font-weight: bold\">         Param # </span>┃\n",
       "┡━━━━━━━━━━━━━━━━━━━━━━━━━━━━━━━━━━━━━━╇━━━━━━━━━━━━━━━━━━━━━━━━━━━━━╇━━━━━━━━━━━━━━━━━┩\n",
       "│ flatten (<span style=\"color: #0087ff; text-decoration-color: #0087ff\">Flatten</span>)                    │ (<span style=\"color: #00d7ff; text-decoration-color: #00d7ff\">None</span>, <span style=\"color: #00af00; text-decoration-color: #00af00\">784</span>)                 │               <span style=\"color: #00af00; text-decoration-color: #00af00\">0</span> │\n",
       "├──────────────────────────────────────┼─────────────────────────────┼─────────────────┤\n",
       "│ dense (<span style=\"color: #0087ff; text-decoration-color: #0087ff\">Dense</span>)                        │ (<span style=\"color: #00d7ff; text-decoration-color: #00d7ff\">None</span>, <span style=\"color: #00af00; text-decoration-color: #00af00\">5</span>)                   │           <span style=\"color: #00af00; text-decoration-color: #00af00\">3,925</span> │\n",
       "├──────────────────────────────────────┼─────────────────────────────┼─────────────────┤\n",
       "│ dropout (<span style=\"color: #0087ff; text-decoration-color: #0087ff\">Dropout</span>)                    │ (<span style=\"color: #00d7ff; text-decoration-color: #00d7ff\">None</span>, <span style=\"color: #00af00; text-decoration-color: #00af00\">5</span>)                   │               <span style=\"color: #00af00; text-decoration-color: #00af00\">0</span> │\n",
       "├──────────────────────────────────────┼─────────────────────────────┼─────────────────┤\n",
       "│ dense_1 (<span style=\"color: #0087ff; text-decoration-color: #0087ff\">Dense</span>)                      │ (<span style=\"color: #00d7ff; text-decoration-color: #00d7ff\">None</span>, <span style=\"color: #00af00; text-decoration-color: #00af00\">4</span>)                   │              <span style=\"color: #00af00; text-decoration-color: #00af00\">24</span> │\n",
       "├──────────────────────────────────────┼─────────────────────────────┼─────────────────┤\n",
       "│ dense_2 (<span style=\"color: #0087ff; text-decoration-color: #0087ff\">Dense</span>)                      │ (<span style=\"color: #00d7ff; text-decoration-color: #00d7ff\">None</span>, <span style=\"color: #00af00; text-decoration-color: #00af00\">10</span>)                  │              <span style=\"color: #00af00; text-decoration-color: #00af00\">50</span> │\n",
       "└──────────────────────────────────────┴─────────────────────────────┴─────────────────┘\n",
       "</pre>\n"
      ],
      "text/plain": [
       "┏━━━━━━━━━━━━━━━━━━━━━━━━━━━━━━━━━━━━━━┳━━━━━━━━━━━━━━━━━━━━━━━━━━━━━┳━━━━━━━━━━━━━━━━━┓\n",
       "┃\u001b[1m \u001b[0m\u001b[1mLayer (type)                        \u001b[0m\u001b[1m \u001b[0m┃\u001b[1m \u001b[0m\u001b[1mOutput Shape               \u001b[0m\u001b[1m \u001b[0m┃\u001b[1m \u001b[0m\u001b[1m        Param #\u001b[0m\u001b[1m \u001b[0m┃\n",
       "┡━━━━━━━━━━━━━━━━━━━━━━━━━━━━━━━━━━━━━━╇━━━━━━━━━━━━━━━━━━━━━━━━━━━━━╇━━━━━━━━━━━━━━━━━┩\n",
       "│ flatten (\u001b[38;5;33mFlatten\u001b[0m)                    │ (\u001b[38;5;45mNone\u001b[0m, \u001b[38;5;34m784\u001b[0m)                 │               \u001b[38;5;34m0\u001b[0m │\n",
       "├──────────────────────────────────────┼─────────────────────────────┼─────────────────┤\n",
       "│ dense (\u001b[38;5;33mDense\u001b[0m)                        │ (\u001b[38;5;45mNone\u001b[0m, \u001b[38;5;34m5\u001b[0m)                   │           \u001b[38;5;34m3,925\u001b[0m │\n",
       "├──────────────────────────────────────┼─────────────────────────────┼─────────────────┤\n",
       "│ dropout (\u001b[38;5;33mDropout\u001b[0m)                    │ (\u001b[38;5;45mNone\u001b[0m, \u001b[38;5;34m5\u001b[0m)                   │               \u001b[38;5;34m0\u001b[0m │\n",
       "├──────────────────────────────────────┼─────────────────────────────┼─────────────────┤\n",
       "│ dense_1 (\u001b[38;5;33mDense\u001b[0m)                      │ (\u001b[38;5;45mNone\u001b[0m, \u001b[38;5;34m4\u001b[0m)                   │              \u001b[38;5;34m24\u001b[0m │\n",
       "├──────────────────────────────────────┼─────────────────────────────┼─────────────────┤\n",
       "│ dense_2 (\u001b[38;5;33mDense\u001b[0m)                      │ (\u001b[38;5;45mNone\u001b[0m, \u001b[38;5;34m10\u001b[0m)                  │              \u001b[38;5;34m50\u001b[0m │\n",
       "└──────────────────────────────────────┴─────────────────────────────┴─────────────────┘\n"
      ]
     },
     "metadata": {},
     "output_type": "display_data"
    },
    {
     "data": {
      "text/html": [
       "<pre style=\"white-space:pre;overflow-x:auto;line-height:normal;font-family:Menlo,'DejaVu Sans Mono',consolas,'Courier New',monospace\"><span style=\"font-weight: bold\"> Total params: </span><span style=\"color: #00af00; text-decoration-color: #00af00\">3,999</span> (15.62 KB)\n",
       "</pre>\n"
      ],
      "text/plain": [
       "\u001b[1m Total params: \u001b[0m\u001b[38;5;34m3,999\u001b[0m (15.62 KB)\n"
      ]
     },
     "metadata": {},
     "output_type": "display_data"
    },
    {
     "data": {
      "text/html": [
       "<pre style=\"white-space:pre;overflow-x:auto;line-height:normal;font-family:Menlo,'DejaVu Sans Mono',consolas,'Courier New',monospace\"><span style=\"font-weight: bold\"> Trainable params: </span><span style=\"color: #00af00; text-decoration-color: #00af00\">3,999</span> (15.62 KB)\n",
       "</pre>\n"
      ],
      "text/plain": [
       "\u001b[1m Trainable params: \u001b[0m\u001b[38;5;34m3,999\u001b[0m (15.62 KB)\n"
      ]
     },
     "metadata": {},
     "output_type": "display_data"
    },
    {
     "data": {
      "text/html": [
       "<pre style=\"white-space:pre;overflow-x:auto;line-height:normal;font-family:Menlo,'DejaVu Sans Mono',consolas,'Courier New',monospace\"><span style=\"font-weight: bold\"> Non-trainable params: </span><span style=\"color: #00af00; text-decoration-color: #00af00\">0</span> (0.00 B)\n",
       "</pre>\n"
      ],
      "text/plain": [
       "\u001b[1m Non-trainable params: \u001b[0m\u001b[38;5;34m0\u001b[0m (0.00 B)\n"
      ]
     },
     "metadata": {},
     "output_type": "display_data"
    }
   ],
   "source": [
    "from tensorflow.keras.models import Sequential\n",
    "from tensorflow.keras.layers import Flatten, Dense, Dropout\n",
    "\n",
    "model = Sequential([\n",
    "    Flatten(input_shape=(28, 28)),\n",
    "    Dense(5, activation='relu'),\n",
    "    Dropout(0.15),\n",
    "    Dense(4, activation='tanh'),\n",
    "    Dense(10, activation='softmax')\n",
    "])\n",
    "\n",
    "print(\"5. Summary of the model:\")\n",
    "model.summary()\n",
    "\n",
    "model.compile(optimizer='adam',\n",
    "              loss='categorical_crossentropy',\n",
    "              metrics=['accuracy'])\n",
    "\n",
    "history = model.fit(train_images, train_labels_one_hot,\n",
    "                    epochs=5, batch_size=2000, \n",
    "                    validation_data=(test_images, test_labels_one_hot), verbose=0)"
   ]
  },
  {
   "cell_type": "code",
   "execution_count": 15,
   "id": "ae9b7f07-bb44-42b8-95f1-e61a38c7900d",
   "metadata": {},
   "outputs": [
    {
     "name": "stdout",
     "output_type": "stream",
     "text": [
      "6. train accuracy rate for the 4th epoch: 0.19751666486263275\n"
     ]
    },
    {
     "data": {
      "image/png": "[encoded data removed]",
      "text/plain": [
       "<Figure size 640x480 with 1 Axes>"
      ]
     },
     "metadata": {},
     "output_type": "display_data"
    },
    {
     "name": "stdout",
     "output_type": "stream",
     "text": [
      "\u001b[1m1/1\u001b[0m \u001b[32m━━━━━━━━━━━━━━━━━━━━\u001b[0m\u001b[37m\u001b[0m \u001b[1m0s\u001b[0m 68ms/step\n",
      "7. the predicted class label for the 16th item in the train set: Ankle boot\n"
     ]
    },
    {
     "data": {
      "image/png": "[encoded data removed]",
      "text/plain": [
       "<Figure size 640x480 with 2 Axes>"
      ]
     },
     "metadata": {},
     "output_type": "display_data"
    }
   ],
   "source": [
    "train_acc_4th_epoch = history.history['accuracy'][3]\n",
    "print(\"6. train accuracy rate for the 4th epoch:\", train_acc_4th_epoch)\n",
    "\n",
    "# Visualizing the training and validation accuracy over epochs\n",
    "plt.plot(history.history['accuracy'], label='Train Accuracy')\n",
    "plt.plot(history.history['val_accuracy'], label='Validation Accuracy')\n",
    "plt.title(\"Training vs Validation Accuracy\")\n",
    "plt.xlabel(\"Epochs\")\n",
    "plt.ylabel(\"Accuracy\")\n",
    "plt.legend()\n",
    "plt.show()\n",
    "\n",
    "prediction = model.predict(train_images[15:16])\n",
    "predicted_label = class_names[np.argmax(prediction)]\n",
    "print(\"7. the predicted class label for the 16th item in the train set:\", predicted_label)\n",
    "\n",
    "# Visualizing the 16th image and the prediction\n",
    "plt.imshow(train_images[15], cmap='gray')\n",
    "plt.title(f\"Predicted: {predicted_label}\\nTrue Label: {class_names[train_labels[15]]}\")\n",
    "plt.colorbar()\n",
    "plt.show()"
   ]
  },
  {
   "cell_type": "code",
   "execution_count": null,
   "id": "522e8a4b-de21-406a-a483-33a6afc19d56",
   "metadata": {},
   "outputs": [],
   "source": []
  },
  {
   "cell_type": "code",
   "execution_count": null,
   "id": "d0fdcd1f-6634-4325-8e93-2bd80b01ca1d",
   "metadata": {},
   "outputs": [],
   "source": []
  },
  {
   "cell_type": "code",
   "execution_count": null,
   "id": "ccb36d61-3e9d-4422-b61d-fd16cb30a341",
   "metadata": {},
   "outputs": [],
   "source": []
  },
  {
   "cell_type": "code",
   "execution_count": null,
   "id": "315ea360-389b-4f87-9586-dd7ceafa48e2",
   "metadata": {},
   "outputs": [],
   "source": []
  },
  {
   "cell_type": "code",
   "execution_count": null,
   "id": "881359be-9d4c-4f3b-8dfa-85555e73f7dd",
   "metadata": {},
   "outputs": [],
   "source": []
  },
  {
   "cell_type": "code",
   "execution_count": null,
   "id": "185ebcd9-295d-4523-b917-58de4c879b36",
   "metadata": {},
   "outputs": [],
   "source": []
  },
  {
   "cell_type": "code",
   "execution_count": null,
   "id": "7d30068e-01dd-47d5-924a-d40237b8a426",
   "metadata": {},
   "outputs": [],
   "source": []
  }
 ],
 "metadata": {
  "kernelspec": {
   "display_name": "Python 3 (ipykernel)",
   "language": "python",
   "name": "python3"
  },
  "language_info": {
   "codemirror_mode": {
    "name": "ipython",
    "version": 3
   },
   "file_extension": ".py",
   "mimetype": "text/x-python",
   "name": "python",
   "nbconvert_exporter": "python",
   "pygments_lexer": "ipython3",
   "version": "3.12.7"
  }
 },
 "nbformat": 4,
 "nbformat_minor": 5
}
